{
 "cells": [
  {
   "cell_type": "code",
   "execution_count": 1,
   "id": "66384a54",
   "metadata": {},
   "outputs": [],
   "source": [
    "### Import Libraries\n",
    "import pandas as pd\n",
    "import numpy as np\n",
    "import smtplib\n",
    "from email.mime.text import MIMEText\n",
    "from sklearn.ensemble import IsolationForest\n",
    "import joblib\n",
    "import time\n",
    "import os\n",
    "\n",
    "# Ensure model folder\n",
    "os.makedirs(\"Trained_Models/Unsupervised\", exist_ok=True)"
   ]
  },
  {
   "cell_type": "code",
   "execution_count": null,
   "id": "79bbc6da",
   "metadata": {},
   "outputs": [],
   "source": [
    "### Load Models\n",
    "model = joblib.load(r\"your isolation forest model\")\n",
    "scaler = joblib.load(r\"your scalar model\")"
   ]
  },
  {
   "cell_type": "code",
   "execution_count": 12,
   "id": "0cf2ffba",
   "metadata": {},
   "outputs": [],
   "source": [
    "#### Simulated Stream Generator\n",
    "def stream_transactions():\n",
    "    data = [\n",
    "        {\"TransactionID\": \"TXN001\", \"Amount\": 12000, \"Duration\": 45, \"Location\": 103},\n",
    "        {\"TransactionID\": \"TXN002\", \"Amount\": 200, \"Duration\": 3, \"Location\": 102},\n",
    "        {\"TransactionID\": \"TXN003\", \"Amount\": 5000, \"Duration\": 30, \"Location\": 101},\n",
    "    ]\n",
    "    for tx in data:\n",
    "        yield tx\n",
    "        time.sleep(1)"
   ]
  },
  {
   "cell_type": "code",
   "execution_count": 13,
   "id": "06ed6e73",
   "metadata": {},
   "outputs": [
    {
     "name": "stdout",
     "output_type": "stream",
     "text": [
      "🔁 Streaming Transaction: {'TransactionID': 'TXN001', 'Amount': 12000, 'Duration': 45, 'Location': 103}\n",
      "🔁 Streaming Transaction: {'TransactionID': 'TXN002', 'Amount': 200, 'Duration': 3, 'Location': 102}\n",
      "🔁 Streaming Transaction: {'TransactionID': 'TXN003', 'Amount': 5000, 'Duration': 30, 'Location': 101}\n"
     ]
    }
   ],
   "source": [
    "for transaction in stream_transactions():\n",
    "    print(f\"🔁 Streaming Transaction: {transaction}\")"
   ]
  },
  {
   "cell_type": "code",
   "execution_count": 14,
   "id": "39b4b5cb",
   "metadata": {},
   "outputs": [],
   "source": [
    "#### Load Unsupervised Model & Risk Detection\n",
    "def is_high_risk_transaction(tx, model, scaler):\n",
    "    df = pd.DataFrame([{\n",
    "        \"Amount\": tx[\"Amount\"],\n",
    "        \"Duration\": tx[\"Duration\"],\n",
    "        \"Location\": tx[\"Location\"]\n",
    "    }])\n",
    "    features = ['Amount', 'Duration', 'Location']\n",
    "    X_scaled = scaler.transform(df[features])\n",
    "    prediction = model.predict(X_scaled)\n",
    "    return prediction[0] == -1\n",
    "\n",
    "def send_alert(transaction_details):\n",
    "    print(f\" Alert: Suspicious transaction detected -> {transaction_details}\")"
   ]
  },
  {
   "cell_type": "code",
   "execution_count": null,
   "id": "471f1d4a",
   "metadata": {},
   "outputs": [
    {
     "name": "stdout",
     "output_type": "stream",
     "text": [
      "&&& Adaptive retraining complete.\n"
     ]
    }
   ],
   "source": [
    "#### Adaptive Learning Placeholder\n",
    "def adaptive_retrain(new_data):\n",
    "    features = ['Amount', 'Duration', 'Location']\n",
    "    scaler = joblib.load(r\"your scalar model\")\n",
    "    X_scaled = scaler.fit_transform(new_data[features])\n",
    "    joblib.dump(scaler, r\"to save model\")\n",
    "\n",
    "    model = IsolationForest(contamination=0.05, random_state=42)\n",
    "    model.fit(X_scaled)\n",
    "    joblib.dump(model, r\"scaler model your\")\n",
    "\n",
    "    print(\"&&& Adaptive retraining complete.\")\n",
    "\n",
    "# Simulated new data\n",
    "new_data = pd.DataFrame({\n",
    "    'Amount': [7500, 220, 10500],\n",
    "    'Duration': [33, 2, 45],\n",
    "    'Location': [101, 102, 103]\n",
    "})\n",
    "\n",
    "adaptive_retrain(new_data)"
   ]
  },
  {
   "cell_type": "code",
   "execution_count": 16,
   "id": "72d1918d",
   "metadata": {},
   "outputs": [
    {
     "name": "stdout",
     "output_type": "stream",
     "text": [
      "*** Processing Transaction: TXN001\n",
      "*** Transaction TXN001 is normal.\n",
      "*** Processing Transaction: TXN002\n",
      " Alert: Suspicious transaction detected -> {'TransactionID': 'TXN002', 'Amount': 200, 'Duration': 3, 'Location': 102}\n",
      "*** Processing Transaction: TXN003\n",
      "*** Transaction TXN003 is normal.\n"
     ]
    }
   ],
   "source": [
    "#### Real-Time Monitoring Loop\n",
    "for transaction in stream_transactions():\n",
    "    print(f\"*** Processing Transaction: {transaction['TransactionID']}\")\n",
    "    if is_high_risk_transaction(transaction, model, scaler):\n",
    "        send_alert(transaction)\n",
    "    else:\n",
    "        print(f\"*** Transaction {transaction['TransactionID']} is normal.\")"
   ]
  }
 ],
 "metadata": {
  "kernelspec": {
   "display_name": "tf-env",
   "language": "python",
   "name": "python3"
  },
  "language_info": {
   "codemirror_mode": {
    "name": "ipython",
    "version": 3
   },
   "file_extension": ".py",
   "mimetype": "text/x-python",
   "name": "python",
   "nbconvert_exporter": "python",
   "pygments_lexer": "ipython3",
   "version": "3.10.9"
  }
 },
 "nbformat": 4,
 "nbformat_minor": 5
}
